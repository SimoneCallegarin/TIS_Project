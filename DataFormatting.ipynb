{
  "nbformat": 4,
  "nbformat_minor": 0,
  "metadata": {
    "colab": {
      "provenance": [],
      "authorship_tag": "ABX9TyNs5JCWpNB6A3vP504WE4nH",
      "include_colab_link": true
    },
    "kernelspec": {
      "name": "python3",
      "display_name": "Python 3"
    },
    "language_info": {
      "name": "python"
    }
  },
  "cells": [
    {
      "cell_type": "markdown",
      "metadata": {
        "id": "view-in-github",
        "colab_type": "text"
      },
      "source": [
        "<a href=\"https://colab.research.google.com/github/SimoneCallegarin/TIS_project/blob/main/DataFormatting.ipynb\" target=\"_parent\"><img src=\"https://colab.research.google.com/assets/colab-badge.svg\" alt=\"Open In Colab\"/></a>"
      ]
    },
    {
      "cell_type": "markdown",
      "source": [
        "## <font color=#5DADE2>Dataframe Formatting</font>\n",
        "Some functions are defined to format the dataframes, in order to improve their readability and to facilitate their comprehension"
      ],
      "metadata": {
        "id": "ARMVxDEN6F7u"
      }
    },
    {
      "cell_type": "markdown",
      "source": [
        "### <font color=#85C1E9>Text formatting</font>"
      ],
      "metadata": {
        "id": "Iid3nEaAQmro"
      }
    },
    {
      "cell_type": "markdown",
      "source": [
        "Paints <font color=red>FALSE</font> values in <font color=red>red</font> and <font color=green>TRUE</font> values in <font color=green>green</font> text:"
      ],
      "metadata": {
        "id": "pMY_-zQ36-Ym"
      }
    },
    {
      "cell_type": "code",
      "source": [
        "def color_true_false(value):\n",
        "    if type(value) != type(''):\n",
        "      if value == 1:\n",
        "        color = 'green'\n",
        "      else:\n",
        "        color = 'red' \n",
        "      return 'color: {}'.format(color)"
      ],
      "metadata": {
        "id": "Qv3UCL6GYmx4"
      },
      "execution_count": null,
      "outputs": []
    },
    {
      "cell_type": "markdown",
      "source": [
        "Paints values that are equal to 1 with <font color=green>green</font> text:"
      ],
      "metadata": {
        "id": "6tDM0CqQ7IS6"
      }
    },
    {
      "cell_type": "code",
      "source": [
        "def color_val(value):\n",
        "  if type(value) != type(''):\n",
        "    if value == 1:\n",
        "      color = 'green'\n",
        "      return 'color: {}'.format(color)"
      ],
      "metadata": {
        "id": "sv-Z4_E5J7R4"
      },
      "execution_count": null,
      "outputs": []
    },
    {
      "cell_type": "markdown",
      "source": [
        "Paints value that are equal to 1.0 with <font color=#FDFEFE>white</font> text:"
      ],
      "metadata": {
        "id": "0hjk5Z3DzbYG"
      }
    },
    {
      "cell_type": "code",
      "source": [
        "def color_white(value):\n",
        "  if type(value) != type(''):\n",
        "    if value == 1.0:\n",
        "      color = '#FDFEFE'\n",
        "      return 'color: {}'.format(color)"
      ],
      "metadata": {
        "id": "Mj3J43ZvwGXE"
      },
      "execution_count": null,
      "outputs": []
    },
    {
      "cell_type": "markdown",
      "source": [
        "### <font color=#85C1E9>Row formatting</font>"
      ],
      "metadata": {
        "id": "tEv_yBVWQtto"
      }
    },
    {
      "cell_type": "markdown",
      "source": [
        "Shades the rows of the table with a <font color=lightblue>light blue</font> color scale for each *attribute_name* group that was defined during the preprocessing phase:"
      ],
      "metadata": {
        "id": "4KFTjYUV79Te"
      }
    },
    {
      "cell_type": "code",
      "source": [
        "def highlight_blue(value):\n",
        "  if type(value) != type(''):\n",
        "    if value.attribute_name == 'Pregnancies':\n",
        "        return ['background-color: \t#f5f9fc'] * len(value)\n",
        "    if value.attribute_name == 'Glucose':\n",
        "        return ['background-color: \t#ebf3fa'] * len(value)\n",
        "    if value.attribute_name == 'BloodPressure':\n",
        "        return ['background-color: \t#e2edf8'] * len(value)\n",
        "    if value.attribute_name == 'SkinThickness':\n",
        "        return ['background-color:  #d8e7f5'] * len(value)\n",
        "    if value.attribute_name == 'Insulin':\n",
        "        return ['background-color: \t#cfe2f3'] * len(value)\n",
        "    if value.attribute_name == 'BMI':\n",
        "        return ['background-color: \t#c5dcf1'] * len(value)\n",
        "    if value.attribute_name == 'DiabetesPedigreeFunction':\n",
        "        return ['background-color: \t#bbd6ee'] * len(value)\n",
        "    if value.attribute_name == 'Age':\n",
        "        return ['background-color: \t#b2d0ec'] * len(value)\n",
        "    if value.attribute_name == 'AgeCategory':\n",
        "        return ['background-color: \t#a8caea'] * len(value)"
      ],
      "metadata": {
        "id": "RH-acBNYWVNF"
      },
      "execution_count": null,
      "outputs": []
    },
    {
      "cell_type": "markdown",
      "source": [
        "Apply two different <font color=#e2edf8>light</font> <font color=#a8caea>blue</font> background colors to two rows in a small table (used in sensitive attribute table):"
      ],
      "metadata": {
        "id": "rHY2zjHBxSTS"
      }
    },
    {
      "cell_type": "code",
      "source": [
        "def small_highlight_blue(value):\n",
        "  if type(value) != type(''):\n",
        "    if value.attribute_value == '1':\n",
        "      return ['background-color: \t#a8caea'] * len(value)\n",
        "    if value.attribute_value == '0':\n",
        "      return ['background-color: \t#e2edf8'] * len(value)"
      ],
      "metadata": {
        "id": "10GFUtcMKosz"
      },
      "execution_count": null,
      "outputs": []
    },
    {
      "cell_type": "markdown",
      "source": [
        "Shades the rows of the table with a <font color=gray>gray</font> color scale for each *attribute_name* group that was defined during the preprocessing phase:"
      ],
      "metadata": {
        "id": "uWROkfR07jIR"
      }
    },
    {
      "cell_type": "code",
      "source": [
        "def highlight_gray(value):\n",
        "  if type(value) != type(''):\n",
        "    if value.attribute_name == 'Pregnancies':\n",
        "        return ['background-color: \t#CCCCCC'] * len(value)\n",
        "    if value.attribute_name == 'Glucose':\n",
        "        return ['background-color: \t#BFBFBF'] * len(value)\n",
        "    if value.attribute_name == 'BloodPressure':\n",
        "        return ['background-color: \t#B3B3B3'] * len(value)\n",
        "    if value.attribute_name == 'SkinThickness':\n",
        "        return ['background-color: \t#A6A6A6'] * len(value)\n",
        "    if value.attribute_name == 'Insulin':\n",
        "        return ['background-color: \t#999999'] * len(value)\n",
        "    if value.attribute_name == 'BMI':\n",
        "        return ['background-color:  #A6A6A6'] * len(value)\n",
        "    if value.attribute_name == 'DiabetesPedigreeFunction':\n",
        "        return ['background-color: \t#B3B3B3'] * len(value)\n",
        "    if value.attribute_name == 'Age':\n",
        "        return ['background-color: \t#BFBFBF'] * len(value)\n",
        "    if value.attribute_name == 'AgeCategory':\n",
        "        return ['background-color: \t#CCCCCC'] * len(value)"
      ],
      "metadata": {
        "id": "c_g5e_pkBdRA"
      },
      "execution_count": null,
      "outputs": []
    },
    {
      "cell_type": "markdown",
      "source": [
        "Apply two different <font color=gray>gray</font> background colors to two rows in a small table (used in sensitive attribute table):"
      ],
      "metadata": {
        "id": "Ie2ZEMbx7u1n"
      }
    },
    {
      "cell_type": "code",
      "source": [
        "def small_highlight_gray(value):\n",
        "  if type(value) is pd.Series:\n",
        "      return ['background-color: \t#BFBFBF'] * len(value)\n",
        "  else:\n",
        "      if type(value) != type(''):\n",
        "        if value.attribute_value == '1':\n",
        "          return ['background-color: \t#A6A6A6'] * len(value)\n",
        "        if value.attribute_value == '0':\n",
        "          return ['background-color: \t#BFBFBF'] * len(value)"
      ],
      "metadata": {
        "id": "S3zKigNx7hw0"
      },
      "execution_count": null,
      "outputs": []
    },
    {
      "cell_type": "markdown",
      "source": [
        "Apply a <font color=green>green</font> background to cells containing a *1.0* value:"
      ],
      "metadata": {
        "id": "CfVmCgyAxpAp"
      }
    },
    {
      "cell_type": "code",
      "source": [
        "def highlight_100(value):\n",
        "  if type(value) != type(''):\n",
        "    if value == 1.0:\n",
        "      return 'background-color:\t #16A085' "
      ],
      "metadata": {
        "id": "Lpu93WrVsIME"
      },
      "execution_count": null,
      "outputs": []
    },
    {
      "cell_type": "markdown",
      "source": [
        "---\n",
        "Apply a background gradient to each column of the table ***tab*** belonging to the ***sel_col*** list (using `axis=0`, so along the rows), and format their values to two decimal also applying percentage:"
      ],
      "metadata": {
        "id": "X5qAyttYlQam"
      }
    },
    {
      "cell_type": "code",
      "source": [
        "def table_gradient(tab,tab_style,sel_col):\n",
        "  if sel_col:\n",
        "    tab_style.format({col: \"{:.2%}\" for col in tab.columns if col in sel_col})\n",
        "    tab_style.background_gradient(axis=0, subset = sel_col)"
      ],
      "metadata": {
        "id": "YHR39SFBlR4V"
      },
      "execution_count": null,
      "outputs": []
    },
    {
      "cell_type": "markdown",
      "source": [
        "Apply a background gradient to each column of the small table ***tab*** belonging to the ***sel_col*** list (using `axis=None`, so along both axes), and format their values to two decimal also applying percentage (used in sensitive attribute table):"
      ],
      "metadata": {
        "id": "7Sc42IiD2Ih_"
      }
    },
    {
      "cell_type": "code",
      "source": [
        "def small_table_gradient(tab,tab_style,sel_col):\n",
        "    if sel_col:   \n",
        "      tab_style.format({col: \"{:.2%}\" for col in tab.columns if col in sel_col})\n",
        "      tab_style.background_gradient(axis=None, subset = sel_col)"
      ],
      "metadata": {
        "id": "cPz0UTTE2D50"
      },
      "execution_count": null,
      "outputs": []
    },
    {
      "cell_type": "markdown",
      "source": [
        "### <font color=#85C1E9>Table formatting</font>"
      ],
      "metadata": {
        "id": "iCvdvYSV0XrC"
      }
    },
    {
      "cell_type": "markdown",
      "source": [
        "Formats text and background for each row of the dataframe:\n",
        "\n",
        "\n",
        "1.   Set <font color=black>black</font> text as default\n",
        "2.   Set <font color=navy>navy</font> text to values belonging to the *attribute_value* column\n",
        "3.   Set a sequence of <font color=lightblue>light blue</font> shades as background for each defined group  (`axis=1` = column-wise)\n",
        "4.   Add a gradient to the columns belonging to *sel_col* list\n",
        "5.   Set a <font color=green>green</font> background to the cells containing 100.00%\n",
        "6.   Set <font color=#FDFEFE>white</font> text to the cells containing 100.00%"
      ],
      "metadata": {
        "id": "pVfT6Hpg8jgP"
      }
    },
    {
      "cell_type": "code",
      "source": [
        "def format_blue_table(tab,sel_col):\n",
        "    tab_style = tab.style\n",
        "    tab_style.set_properties(**{'color': 'black'})\n",
        "    tab_style.set_properties(**{'color': 'navy'}, subset = ['attribute_value'])\n",
        "    tab_style.apply(highlight_blue, axis = 1)\n",
        "    table_gradient(tab,tab_style,sel_col)\n",
        "    tab_style.applymap(highlight_100, subset = sel_col)\n",
        "    tab_style.applymap(color_white, subset = sel_col)\n",
        "    return tab_style"
      ],
      "metadata": {
        "id": "6apiAtrS8j5-"
      },
      "execution_count": null,
      "outputs": []
    },
    {
      "cell_type": "markdown",
      "source": [
        "Formats text and background for each row of the dataframe (used for sensitive attribute only tables):\n",
        "\n",
        "\n",
        "1.   Set <font color=black>black</font> text as default\n",
        "2.   Set <font color=navy>navy</font> text to values belonging to the *attribute_value* column\n",
        "3.   Set a sequence of <font color=lightblue>light blue</font> shades as background for each defined group (`axis=1` = column-wise)\n",
        "4.   Add a gradient to the columns belonging to *sel_col* list\n",
        "5.   Set a <font color=green>green</font> background to the cells containing 100.00%\n",
        "6.   Set <font color=#FDFEFE>white</font> text to the cells containing 100.00%"
      ],
      "metadata": {
        "id": "3IVHEMZGnzCj"
      }
    },
    {
      "cell_type": "code",
      "source": [
        "def format_small_blue_table(tab,sel_col):\n",
        "    tab_style = tab.style\n",
        "    tab_style.set_properties(**{'color': 'black'})\n",
        "    tab_style.set_properties(**{'color': 'navy'}, subset = ['attribute_value'])\n",
        "    tab_style.apply(small_highlight_blue, axis = 1)\n",
        "    small_table_gradient(tab,tab_style,sel_col)\n",
        "    tab_style.applymap(highlight_100, subset = sel_col)\n",
        "    tab_style.applymap(color_white)\n",
        "    return tab_style"
      ],
      "metadata": {
        "id": "o9dO8jlGKg-d"
      },
      "execution_count": null,
      "outputs": []
    },
    {
      "cell_type": "markdown",
      "source": [
        "Formats text and background for each row of the dataframe:\n",
        "\n",
        "\n",
        "1.   Set <font color=black>black</font> text for the values belonging to the *attribute_name* column\n",
        "2.   Set <font color=navy>navy</font> text to values belonging to the *attribute_value* column\n",
        "3.   Set a sequence of <font color=gray>gray</font> shades as background for each defined group (`axis=1` = column-wise)\n",
        "4.   Set red and green colored text of the cells containing respectively False and True\n",
        "5.   Apply a <font color=red>gradient</font> to the columns belonging to the *sel_col* list\n",
        "6.   Set <font color=green>green</font> colored text of the cells containing '1'\n"
      ],
      "metadata": {
        "id": "lnOIOEMpA6bb"
      }
    },
    {
      "cell_type": "code",
      "source": [
        "def format_gray_table(tab,sel_col):\n",
        "    tab_style = tab.style\n",
        "    tab_style.set_properties(**{'color': 'black'}, subset = ['attribute_name'])\n",
        "    if 'attribute_value' in tab.columns:\n",
        "      tab_style.set_properties(**{'color': 'navy'}, subset = ['attribute_value'])\n",
        "    tab_style.apply(highlight_gray, axis = 1)\n",
        "    tab_style.applymap(color_true_false)\n",
        "    tab_style.text_gradient(axis=0, cmap='gist_heat', subset = sel_col, low=0, high=0.5)\n",
        "    tab_style.applymap(color_val)\n",
        "    return tab_style"
      ],
      "metadata": {
        "id": "RTu60OX4A4zX"
      },
      "execution_count": null,
      "outputs": []
    },
    {
      "cell_type": "markdown",
      "source": [
        "Formats text and background for each row of the dataframe (used for sensitive attribute only tables):\n",
        "\n",
        "\n",
        "1.   Set <font color=black>black</font> text for the values belonging to the *attribute_name* column\n",
        "2.   Set <font color=navy>navy</font> text to values belonging to the *attribute_value* column\n",
        "3.   Set a sequence of <font color=gray>gray</font> shades as background for each defined group (`axis=1` = column-wise)\n",
        "4.   Set red and green colored text of the cells containing respectively False and True\n",
        "5.   Apply a <font color=red>gradient</font> to the columns belonging to the *sel_col* list\n",
        "6.   Set <font color=green>green</font> colored text of the cells containing '1'\n"
      ],
      "metadata": {
        "id": "qhqU69e28a4P"
      }
    },
    {
      "cell_type": "code",
      "source": [
        "def format_small_gray_table(tab,sel_col):\n",
        "    tab_style = tab.style\n",
        "    tab_style.set_properties(**{'color': 'black'}, subset = ['attribute_name'])\n",
        "    if 'attribute_value' in tab.columns:\n",
        "      tab_style.set_properties(**{'color': 'navy'}, subset = ['attribute_value'])\n",
        "    tab_style.apply(small_highlight_gray, axis = 1)\n",
        "    tab_style.applymap(color_true_false)\n",
        "    tab_style.text_gradient(axis=1, cmap='gist_heat', subset = sel_col, low=0, high=0.5)\n",
        "    tab_style.applymap(color_val)\n",
        "    return tab_style"
      ],
      "metadata": {
        "id": "gcYUNV-b7K0K"
      },
      "execution_count": null,
      "outputs": []
    }
  ]
}