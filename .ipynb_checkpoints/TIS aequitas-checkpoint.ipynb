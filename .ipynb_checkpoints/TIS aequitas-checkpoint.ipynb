{
 "cells": [
  {
   "cell_type": "code",
   "execution_count": 1,
   "id": "5111fc98",
   "metadata": {},
   "outputs": [
    {
     "name": "stdout",
     "output_type": "stream",
     "text": [
      "Requirement already satisfied: aequitas in c:\\users\\simon\\anaconda3\\lib\\site-packages (0.42.0)\n",
      "Requirement already satisfied: Flask==0.12.2 in c:\\users\\simon\\anaconda3\\lib\\site-packages (from aequitas) (0.12.2)\n",
      "Requirement already satisfied: pyyaml>=5.1 in c:\\users\\simon\\anaconda3\\lib\\site-packages (from aequitas) (6.0)\n",
      "Requirement already satisfied: ohio>=0.2.0 in c:\\users\\simon\\anaconda3\\lib\\site-packages (from aequitas) (0.5.0)\n",
      "Requirement already satisfied: pandas>=0.24.1 in c:\\users\\simon\\anaconda3\\lib\\site-packages (from aequitas) (1.4.2)\n",
      "Requirement already satisfied: Flask-Bootstrap==3.3.7.1 in c:\\users\\simon\\anaconda3\\lib\\site-packages (from aequitas) (3.3.7.1)\n",
      "Requirement already satisfied: xhtml2pdf==0.2.2 in c:\\users\\simon\\anaconda3\\lib\\site-packages (from aequitas) (0.2.2)\n",
      "Requirement already satisfied: seaborn>=0.9.0 in c:\\users\\simon\\anaconda3\\lib\\site-packages (from aequitas) (0.11.2)\n",
      "Requirement already satisfied: SQLAlchemy>=1.1.1 in c:\\users\\simon\\anaconda3\\lib\\site-packages (from aequitas) (1.4.32)\n",
      "Requirement already satisfied: markdown2==2.3.5 in c:\\users\\simon\\anaconda3\\lib\\site-packages (from aequitas) (2.3.5)\n",
      "Requirement already satisfied: matplotlib>=3.0.3 in c:\\users\\simon\\anaconda3\\lib\\site-packages (from aequitas) (3.7.0)\n",
      "Requirement already satisfied: tabulate==0.8.2 in c:\\users\\simon\\anaconda3\\lib\\site-packages (from aequitas) (0.8.2)\n",
      "Requirement already satisfied: millify==0.1.1 in c:\\users\\simon\\anaconda3\\lib\\site-packages (from aequitas) (0.1.1)\n",
      "Requirement already satisfied: altair==4.1.0 in c:\\users\\simon\\anaconda3\\lib\\site-packages (from aequitas) (4.1.0)\n",
      "Requirement already satisfied: jsonschema in c:\\users\\simon\\anaconda3\\lib\\site-packages (from altair==4.1.0->aequitas) (4.4.0)\n",
      "Requirement already satisfied: numpy in c:\\users\\simon\\anaconda3\\lib\\site-packages (from altair==4.1.0->aequitas) (1.21.5)\n",
      "Requirement already satisfied: entrypoints in c:\\users\\simon\\anaconda3\\lib\\site-packages (from altair==4.1.0->aequitas) (0.4)\n",
      "Requirement already satisfied: toolz in c:\\users\\simon\\anaconda3\\lib\\site-packages (from altair==4.1.0->aequitas) (0.11.2)\n",
      "Requirement already satisfied: jinja2 in c:\\users\\simon\\anaconda3\\lib\\site-packages (from altair==4.1.0->aequitas) (3.1.2)\n",
      "Requirement already satisfied: Werkzeug>=0.7 in c:\\users\\simon\\anaconda3\\lib\\site-packages (from Flask==0.12.2->aequitas) (2.0.3)\n",
      "Requirement already satisfied: click>=2.0 in c:\\users\\simon\\anaconda3\\lib\\site-packages (from Flask==0.12.2->aequitas) (8.0.4)\n",
      "Requirement already satisfied: itsdangerous>=0.21 in c:\\users\\simon\\anaconda3\\lib\\site-packages (from Flask==0.12.2->aequitas) (2.0.1)\n",
      "Requirement already satisfied: dominate in c:\\users\\simon\\anaconda3\\lib\\site-packages (from Flask-Bootstrap==3.3.7.1->aequitas) (2.7.0)\n",
      "Requirement already satisfied: visitor in c:\\users\\simon\\anaconda3\\lib\\site-packages (from Flask-Bootstrap==3.3.7.1->aequitas) (0.1.3)\n",
      "Requirement already satisfied: httplib2 in c:\\users\\simon\\anaconda3\\lib\\site-packages (from xhtml2pdf==0.2.2->aequitas) (0.21.0)\n",
      "Requirement already satisfied: six in c:\\users\\simon\\anaconda3\\lib\\site-packages (from xhtml2pdf==0.2.2->aequitas) (1.16.0)\n",
      "Requirement already satisfied: html5lib>=1.0 in c:\\users\\simon\\anaconda3\\lib\\site-packages (from xhtml2pdf==0.2.2->aequitas) (1.1)\n",
      "Requirement already satisfied: Pillow in c:\\users\\simon\\anaconda3\\lib\\site-packages (from xhtml2pdf==0.2.2->aequitas) (9.0.1)\n",
      "Requirement already satisfied: pyPdf2 in c:\\users\\simon\\anaconda3\\lib\\site-packages (from xhtml2pdf==0.2.2->aequitas) (3.0.1)\n",
      "Requirement already satisfied: reportlab>=3.0 in c:\\users\\simon\\anaconda3\\lib\\site-packages (from xhtml2pdf==0.2.2->aequitas) (3.6.12)\n",
      "Requirement already satisfied: colorama in c:\\users\\simon\\anaconda3\\lib\\site-packages (from click>=2.0->Flask==0.12.2->aequitas) (0.4.4)\n",
      "Requirement already satisfied: webencodings in c:\\users\\simon\\anaconda3\\lib\\site-packages (from html5lib>=1.0->xhtml2pdf==0.2.2->aequitas) (0.5.1)\n",
      "Requirement already satisfied: MarkupSafe>=2.0 in c:\\users\\simon\\anaconda3\\lib\\site-packages (from jinja2->altair==4.1.0->aequitas) (2.0.1)\n",
      "Requirement already satisfied: contourpy>=1.0.1 in c:\\users\\simon\\anaconda3\\lib\\site-packages (from matplotlib>=3.0.3->aequitas) (1.0.7)\n",
      "Requirement already satisfied: packaging>=20.0 in c:\\users\\simon\\anaconda3\\lib\\site-packages (from matplotlib>=3.0.3->aequitas) (21.3)\n",
      "Requirement already satisfied: pyparsing>=2.3.1 in c:\\users\\simon\\anaconda3\\lib\\site-packages (from matplotlib>=3.0.3->aequitas) (3.0.4)\n",
      "Requirement already satisfied: importlib-resources>=3.2.0 in c:\\users\\simon\\anaconda3\\lib\\site-packages (from matplotlib>=3.0.3->aequitas) (5.12.0)\n",
      "Requirement already satisfied: kiwisolver>=1.0.1 in c:\\users\\simon\\anaconda3\\lib\\site-packages (from matplotlib>=3.0.3->aequitas) (1.3.2)\n",
      "Requirement already satisfied: fonttools>=4.22.0 in c:\\users\\simon\\anaconda3\\lib\\site-packages (from matplotlib>=3.0.3->aequitas) (4.25.0)\n",
      "Requirement already satisfied: cycler>=0.10 in c:\\users\\simon\\anaconda3\\lib\\site-packages (from matplotlib>=3.0.3->aequitas) (0.11.0)\n",
      "Requirement already satisfied: python-dateutil>=2.7 in c:\\users\\simon\\anaconda3\\lib\\site-packages (from matplotlib>=3.0.3->aequitas) (2.8.2)\n",
      "Requirement already satisfied: zipp>=3.1.0 in c:\\users\\simon\\anaconda3\\lib\\site-packages (from importlib-resources>=3.2.0->matplotlib>=3.0.3->aequitas) (3.7.0)\n",
      "Requirement already satisfied: pytz>=2020.1 in c:\\users\\simon\\anaconda3\\lib\\site-packages (from pandas>=0.24.1->aequitas) (2021.3)\n",
      "Requirement already satisfied: scipy>=1.0 in c:\\users\\simon\\anaconda3\\lib\\site-packages (from seaborn>=0.9.0->aequitas) (1.7.3)\n",
      "Requirement already satisfied: greenlet!=0.4.17 in c:\\users\\simon\\anaconda3\\lib\\site-packages (from SQLAlchemy>=1.1.1->aequitas) (1.1.1)\n",
      "Requirement already satisfied: pyrsistent!=0.17.0,!=0.17.1,!=0.17.2,>=0.14.0 in c:\\users\\simon\\anaconda3\\lib\\site-packages (from jsonschema->altair==4.1.0->aequitas) (0.18.0)\n",
      "Requirement already satisfied: attrs>=17.4.0 in c:\\users\\simon\\anaconda3\\lib\\site-packages (from jsonschema->altair==4.1.0->aequitas) (21.4.0)\n",
      "Requirement already satisfied: typing_extensions>=3.10.0.0 in c:\\users\\simon\\anaconda3\\lib\\site-packages (from pyPdf2->xhtml2pdf==0.2.2->aequitas) (4.1.1)\n"
     ]
    },
    {
     "name": "stderr",
     "output_type": "stream",
     "text": [
      "WARNING: Ignoring invalid distribution -atplotlib (c:\\users\\simon\\anaconda3\\lib\\site-packages)\n",
      "WARNING: Ignoring invalid distribution -atplotlib (c:\\users\\simon\\anaconda3\\lib\\site-packages)\n",
      "WARNING: Ignoring invalid distribution -atplotlib (c:\\users\\simon\\anaconda3\\lib\\site-packages)\n",
      "WARNING: Ignoring invalid distribution -atplotlib (c:\\users\\simon\\anaconda3\\lib\\site-packages)\n",
      "WARNING: Ignoring invalid distribution -atplotlib (c:\\users\\simon\\anaconda3\\lib\\site-packages)\n",
      "WARNING: Ignoring invalid distribution -atplotlib (c:\\users\\simon\\anaconda3\\lib\\site-packages)\n"
     ]
    }
   ],
   "source": [
    "!pip install aequitas\n",
    "import pandas as pd\n",
    "import seaborn as sns\n",
    "from aequitas.group import Group\n",
    "from aequitas.bias import Bias\n",
    "from aequitas.fairness import Fairness\n",
    "import aequitas.plot as ap\n",
    "\n",
    "# import warnings; warnings.simplefilter('ignore')\n",
    "\n",
    "%matplotlib inline"
   ]
  },
  {
   "cell_type": "code",
   "execution_count": 3,
   "id": "4ec8a3ee",
   "metadata": {},
   "outputs": [
    {
     "ename": "ParserError",
     "evalue": "Error tokenizing data. C error: Expected 1 fields in line 27, saw 367\n",
     "output_type": "error",
     "traceback": [
      "\u001b[1;31m---------------------------------------------------------------------------\u001b[0m",
      "\u001b[1;31mParserError\u001b[0m                               Traceback (most recent call last)",
      "Input \u001b[1;32mIn [3]\u001b[0m, in \u001b[0;36m<cell line: 9>\u001b[1;34m()\u001b[0m\n\u001b[0;32m      1\u001b[0m \u001b[38;5;66;03m# The purpose of this script is to transform raw data to \u001b[39;00m\n\u001b[0;32m      2\u001b[0m \u001b[38;5;66;03m# the format expected by Aequitas.\u001b[39;00m\n\u001b[0;32m      3\u001b[0m \u001b[38;5;66;03m#\u001b[39;00m\n\u001b[1;32m   (...)\u001b[0m\n\u001b[0;32m      6\u001b[0m \u001b[38;5;66;03m# ProPublica's methodology: https://www.propublica.org/article/how-we-analyzed-the-compas-recidivism-algorithm\u001b[39;00m\n\u001b[0;32m      7\u001b[0m \u001b[38;5;66;03m# Ari Anisfeld\u001b[39;00m\n\u001b[1;32m----> 9\u001b[0m df \u001b[38;5;241m=\u001b[39m \u001b[43mpd\u001b[49m\u001b[38;5;241;43m.\u001b[39;49m\u001b[43mread_csv\u001b[49m\u001b[43m(\u001b[49m\u001b[38;5;124;43m'\u001b[39;49m\u001b[38;5;124;43mhttps://github.com/SimoneCallegarin/TIS_project/blob/main/raw_data/compas-scores-two-years.csv\u001b[39;49m\u001b[38;5;124;43m'\u001b[39;49m\u001b[43m)\u001b[49m\n\u001b[0;32m     12\u001b[0m \u001b[38;5;66;03m# rename for tool\u001b[39;00m\n\u001b[0;32m     13\u001b[0m df \u001b[38;5;241m=\u001b[39m df\u001b[38;5;241m.\u001b[39mrename(columns\u001b[38;5;241m=\u001b[39m{\u001b[38;5;124m'\u001b[39m\u001b[38;5;124mid\u001b[39m\u001b[38;5;124m'\u001b[39m:\u001b[38;5;124m'\u001b[39m\u001b[38;5;124mentity_id\u001b[39m\u001b[38;5;124m'\u001b[39m, \n\u001b[0;32m     14\u001b[0m                         \u001b[38;5;124m'\u001b[39m\u001b[38;5;124mtwo_year_recid\u001b[39m\u001b[38;5;124m'\u001b[39m:\u001b[38;5;124m'\u001b[39m\u001b[38;5;124mlabel_value\u001b[39m\u001b[38;5;124m'\u001b[39m})\n",
      "File \u001b[1;32m~\\anaconda3\\lib\\site-packages\\pandas\\util\\_decorators.py:311\u001b[0m, in \u001b[0;36mdeprecate_nonkeyword_arguments.<locals>.decorate.<locals>.wrapper\u001b[1;34m(*args, **kwargs)\u001b[0m\n\u001b[0;32m    305\u001b[0m \u001b[38;5;28;01mif\u001b[39;00m \u001b[38;5;28mlen\u001b[39m(args) \u001b[38;5;241m>\u001b[39m num_allow_args:\n\u001b[0;32m    306\u001b[0m     warnings\u001b[38;5;241m.\u001b[39mwarn(\n\u001b[0;32m    307\u001b[0m         msg\u001b[38;5;241m.\u001b[39mformat(arguments\u001b[38;5;241m=\u001b[39marguments),\n\u001b[0;32m    308\u001b[0m         \u001b[38;5;167;01mFutureWarning\u001b[39;00m,\n\u001b[0;32m    309\u001b[0m         stacklevel\u001b[38;5;241m=\u001b[39mstacklevel,\n\u001b[0;32m    310\u001b[0m     )\n\u001b[1;32m--> 311\u001b[0m \u001b[38;5;28;01mreturn\u001b[39;00m func(\u001b[38;5;241m*\u001b[39margs, \u001b[38;5;241m*\u001b[39m\u001b[38;5;241m*\u001b[39mkwargs)\n",
      "File \u001b[1;32m~\\anaconda3\\lib\\site-packages\\pandas\\io\\parsers\\readers.py:680\u001b[0m, in \u001b[0;36mread_csv\u001b[1;34m(filepath_or_buffer, sep, delimiter, header, names, index_col, usecols, squeeze, prefix, mangle_dupe_cols, dtype, engine, converters, true_values, false_values, skipinitialspace, skiprows, skipfooter, nrows, na_values, keep_default_na, na_filter, verbose, skip_blank_lines, parse_dates, infer_datetime_format, keep_date_col, date_parser, dayfirst, cache_dates, iterator, chunksize, compression, thousands, decimal, lineterminator, quotechar, quoting, doublequote, escapechar, comment, encoding, encoding_errors, dialect, error_bad_lines, warn_bad_lines, on_bad_lines, delim_whitespace, low_memory, memory_map, float_precision, storage_options)\u001b[0m\n\u001b[0;32m    665\u001b[0m kwds_defaults \u001b[38;5;241m=\u001b[39m _refine_defaults_read(\n\u001b[0;32m    666\u001b[0m     dialect,\n\u001b[0;32m    667\u001b[0m     delimiter,\n\u001b[1;32m   (...)\u001b[0m\n\u001b[0;32m    676\u001b[0m     defaults\u001b[38;5;241m=\u001b[39m{\u001b[38;5;124m\"\u001b[39m\u001b[38;5;124mdelimiter\u001b[39m\u001b[38;5;124m\"\u001b[39m: \u001b[38;5;124m\"\u001b[39m\u001b[38;5;124m,\u001b[39m\u001b[38;5;124m\"\u001b[39m},\n\u001b[0;32m    677\u001b[0m )\n\u001b[0;32m    678\u001b[0m kwds\u001b[38;5;241m.\u001b[39mupdate(kwds_defaults)\n\u001b[1;32m--> 680\u001b[0m \u001b[38;5;28;01mreturn\u001b[39;00m \u001b[43m_read\u001b[49m\u001b[43m(\u001b[49m\u001b[43mfilepath_or_buffer\u001b[49m\u001b[43m,\u001b[49m\u001b[43m \u001b[49m\u001b[43mkwds\u001b[49m\u001b[43m)\u001b[49m\n",
      "File \u001b[1;32m~\\anaconda3\\lib\\site-packages\\pandas\\io\\parsers\\readers.py:581\u001b[0m, in \u001b[0;36m_read\u001b[1;34m(filepath_or_buffer, kwds)\u001b[0m\n\u001b[0;32m    578\u001b[0m     \u001b[38;5;28;01mreturn\u001b[39;00m parser\n\u001b[0;32m    580\u001b[0m \u001b[38;5;28;01mwith\u001b[39;00m parser:\n\u001b[1;32m--> 581\u001b[0m     \u001b[38;5;28;01mreturn\u001b[39;00m \u001b[43mparser\u001b[49m\u001b[38;5;241;43m.\u001b[39;49m\u001b[43mread\u001b[49m\u001b[43m(\u001b[49m\u001b[43mnrows\u001b[49m\u001b[43m)\u001b[49m\n",
      "File \u001b[1;32m~\\anaconda3\\lib\\site-packages\\pandas\\io\\parsers\\readers.py:1254\u001b[0m, in \u001b[0;36mTextFileReader.read\u001b[1;34m(self, nrows)\u001b[0m\n\u001b[0;32m   1252\u001b[0m nrows \u001b[38;5;241m=\u001b[39m validate_integer(\u001b[38;5;124m\"\u001b[39m\u001b[38;5;124mnrows\u001b[39m\u001b[38;5;124m\"\u001b[39m, nrows)\n\u001b[0;32m   1253\u001b[0m \u001b[38;5;28;01mtry\u001b[39;00m:\n\u001b[1;32m-> 1254\u001b[0m     index, columns, col_dict \u001b[38;5;241m=\u001b[39m \u001b[38;5;28;43mself\u001b[39;49m\u001b[38;5;241;43m.\u001b[39;49m\u001b[43m_engine\u001b[49m\u001b[38;5;241;43m.\u001b[39;49m\u001b[43mread\u001b[49m\u001b[43m(\u001b[49m\u001b[43mnrows\u001b[49m\u001b[43m)\u001b[49m\n\u001b[0;32m   1255\u001b[0m \u001b[38;5;28;01mexcept\u001b[39;00m \u001b[38;5;167;01mException\u001b[39;00m:\n\u001b[0;32m   1256\u001b[0m     \u001b[38;5;28mself\u001b[39m\u001b[38;5;241m.\u001b[39mclose()\n",
      "File \u001b[1;32m~\\anaconda3\\lib\\site-packages\\pandas\\io\\parsers\\c_parser_wrapper.py:225\u001b[0m, in \u001b[0;36mCParserWrapper.read\u001b[1;34m(self, nrows)\u001b[0m\n\u001b[0;32m    223\u001b[0m \u001b[38;5;28;01mtry\u001b[39;00m:\n\u001b[0;32m    224\u001b[0m     \u001b[38;5;28;01mif\u001b[39;00m \u001b[38;5;28mself\u001b[39m\u001b[38;5;241m.\u001b[39mlow_memory:\n\u001b[1;32m--> 225\u001b[0m         chunks \u001b[38;5;241m=\u001b[39m \u001b[38;5;28;43mself\u001b[39;49m\u001b[38;5;241;43m.\u001b[39;49m\u001b[43m_reader\u001b[49m\u001b[38;5;241;43m.\u001b[39;49m\u001b[43mread_low_memory\u001b[49m\u001b[43m(\u001b[49m\u001b[43mnrows\u001b[49m\u001b[43m)\u001b[49m\n\u001b[0;32m    226\u001b[0m         \u001b[38;5;66;03m# destructive to chunks\u001b[39;00m\n\u001b[0;32m    227\u001b[0m         data \u001b[38;5;241m=\u001b[39m _concatenate_chunks(chunks)\n",
      "File \u001b[1;32m~\\anaconda3\\lib\\site-packages\\pandas\\_libs\\parsers.pyx:805\u001b[0m, in \u001b[0;36mpandas._libs.parsers.TextReader.read_low_memory\u001b[1;34m()\u001b[0m\n",
      "File \u001b[1;32m~\\anaconda3\\lib\\site-packages\\pandas\\_libs\\parsers.pyx:861\u001b[0m, in \u001b[0;36mpandas._libs.parsers.TextReader._read_rows\u001b[1;34m()\u001b[0m\n",
      "File \u001b[1;32m~\\anaconda3\\lib\\site-packages\\pandas\\_libs\\parsers.pyx:847\u001b[0m, in \u001b[0;36mpandas._libs.parsers.TextReader._tokenize_rows\u001b[1;34m()\u001b[0m\n",
      "File \u001b[1;32m~\\anaconda3\\lib\\site-packages\\pandas\\_libs\\parsers.pyx:1960\u001b[0m, in \u001b[0;36mpandas._libs.parsers.raise_parser_error\u001b[1;34m()\u001b[0m\n",
      "\u001b[1;31mParserError\u001b[0m: Error tokenizing data. C error: Expected 1 fields in line 27, saw 367\n"
     ]
    }
   ],
   "source": [
    "# The purpose of this script is to transform raw data to \n",
    "# the format expected by Aequitas.\n",
    "#\n",
    "# SOURCE: ProPublica \n",
    "# Data: https://github.com/propublica/compas-analysis/raw/master/compas-scores-two-years.csv\n",
    "# ProPublica's methodology: https://www.propublica.org/article/how-we-analyzed-the-compas-recidivism-algorithm\n",
    "# Ari Anisfeld\n",
    "\n",
    "df = pd.read_csv('https://github.com/SimoneCallegarin/TIS_project/blob/main/raw_data/compas-scores-two-years.csv')\n",
    "\n",
    "\n",
    "# rename for tool\n",
    "df = df.rename(columns={'id':'entity_id', \n",
    "                        'two_year_recid':'label_value'})\n",
    "\n",
    "# score_text is 'High', 'Medium' or 'Low' and reflects level of assessed risk of recidivism\n",
    "# \"High\" and \"Medium\" are considered prediction that the defendant is charged with a felony \n",
    "# or misdemenor in the two years after administation of COMPAS assessment. \"Low\" is considered \n",
    "# a prediction of non-recidivism. This is based on ProPublica's interpretation of Northpointe's\n",
    "# practioner guide.\n",
    "#\n",
    "# \"According to Northpointe’s practitioners guide, COMPAS “scores in the medium and high range \n",
    "# garner more interest from supervision agencies than low scores, as a low score would suggest\n",
    "# there is little risk of general recidivism,” so we considered scores any higher than “low” to \n",
    "# indicate a risk of recidivism.\"\n",
    "# (https://www.propublica.org/article/how-we-analyzed-the-compas-recidivism-algorithm)\n",
    "\n",
    "df.loc[df['score_text'] == 'Low', 'score'] = str(0.0)\n",
    "df.loc[df['score_text'] != 'Low', 'score'] = str(1.0)\n",
    "\n",
    "\n",
    "df = df[['entity_id', 'score', 'label_value', 'race', 'sex', 'age_cat']]\n",
    "\n",
    "\n",
    "df.to_csv('./data/compas_for_aequitas.csv', index=False)"
   ]
  },
  {
   "cell_type": "code",
   "execution_count": null,
   "id": "6565787a",
   "metadata": {},
   "outputs": [],
   "source": []
  }
 ],
 "metadata": {
  "kernelspec": {
   "display_name": "Python 3 (ipykernel)",
   "language": "python",
   "name": "python3"
  },
  "language_info": {
   "codemirror_mode": {
    "name": "ipython",
    "version": 3
   },
   "file_extension": ".py",
   "mimetype": "text/x-python",
   "name": "python",
   "nbconvert_exporter": "python",
   "pygments_lexer": "ipython3",
   "version": "3.9.12"
  }
 },
 "nbformat": 4,
 "nbformat_minor": 5
}
