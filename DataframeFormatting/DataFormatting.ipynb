{
  "nbformat": 4,
  "nbformat_minor": 0,
  "metadata": {
    "colab": {
      "provenance": [],
      "authorship_tag": "ABX9TyNgdIXlJShyV1/AknQwYq39",
      "include_colab_link": true
    },
    "kernelspec": {
      "name": "python3",
      "display_name": "Python 3"
    },
    "language_info": {
      "name": "python"
    }
  },
  "cells": [
    {
      "cell_type": "markdown",
      "metadata": {
        "id": "view-in-github",
        "colab_type": "text"
      },
      "source": [
        "<a href=\"https://colab.research.google.com/github/SimoneCallegarin/TIS_project/blob/main/DataframeFormatting/DataFormatting.ipynb\" target=\"_parent\"><img src=\"https://colab.research.google.com/assets/colab-badge.svg\" alt=\"Open In Colab\"/></a>"
      ]
    },
    {
      "cell_type": "markdown",
      "source": [
        "## <font color=#5DADE2>Dataframe Formatting</font>\n",
        "In this section some functions are defined to format the dataframes, in order to improve their readability and to facilitate their comprehension"
      ],
      "metadata": {
        "id": "ARMVxDEN6F7u"
      }
    },
    {
      "cell_type": "code",
      "source": [
        "import pandas as pd"
      ],
      "metadata": {
        "id": "bDSGtuxgsR7K"
      },
      "execution_count": 1,
      "outputs": []
    },
    {
      "cell_type": "markdown",
      "source": [
        "#### <font color=#84B1E0>Other Functions</font>"
      ],
      "metadata": {
        "id": "xvmuYfrwMI-T"
      }
    },
    {
      "cell_type": "markdown",
      "source": [
        "Returns True when shading is from lighter to darker color and False when it is in the other direction, the *numOfShades* determines the number of colors we are chosing to shade the dataframe attributes:"
      ],
      "metadata": {
        "id": "y6YsdCNdMvAU"
      }
    },
    {
      "cell_type": "code",
      "source": [
        "def attColorScale(numOfShades, up, attCount):\n",
        "    if attCount == numOfShades:\n",
        "        return False\n",
        "    if attCount == 0:\n",
        "        return True\n",
        "    return up"
      ],
      "metadata": {
        "id": "3VBRxSBpGjnL"
      },
      "execution_count": 2,
      "outputs": []
    },
    {
      "cell_type": "markdown",
      "source": [
        "If the color shading is normal (up == True) it proceed to shade from lighter to darker colors, otherwise it follows a backward shade:"
      ],
      "metadata": {
        "id": "F7P2r2pONQhu"
      }
    },
    {
      "cell_type": "code",
      "source": [
        "def selectAttColor(color, shadingIntensity, up):\n",
        "    if up:\n",
        "      return color - int(shadingIntensity,16)\n",
        "    else:\n",
        "      return color + int(shadingIntensity,16)"
      ],
      "metadata": {
        "id": "eVpTGOmeG9WQ"
      },
      "execution_count": 3,
      "outputs": []
    },
    {
      "cell_type": "markdown",
      "source": [
        "Add or reduce the attribute counter according to the shade order we are following:"
      ],
      "metadata": {
        "id": "zqcpRGzXNr4H"
      }
    },
    {
      "cell_type": "code",
      "source": [
        "def setCounter(attCount, up):\n",
        "    if up:\n",
        "      return attCount + 1\n",
        "    else:\n",
        "      return attCount - 1"
      ],
      "metadata": {
        "id": "gj4HEN5bINY8"
      },
      "execution_count": 4,
      "outputs": []
    },
    {
      "cell_type": "markdown",
      "source": [
        "Select an hexadecimal value for the starting color of the dataframe shade (the lighter one):"
      ],
      "metadata": {
        "id": "Y0Hr18rCiQQr"
      }
    },
    {
      "cell_type": "code",
      "source": [
        "def startingColorSel(color,loneAttribute):\n",
        "  if color == 'blue':\n",
        "    if loneAttribute:\n",
        "      return 'E2EDF8'\n",
        "    else:\n",
        "      return 'EBF3FA'\n",
        "  if color == 'gray':\n",
        "    if loneAttribute:\n",
        "      return'BFBFBF'\n",
        "    else:\n",
        "      return 'CCCCCC'"
      ],
      "metadata": {
        "id": "7SFsl2NQgTKK"
      },
      "execution_count": 5,
      "outputs": []
    },
    {
      "cell_type": "markdown",
      "source": [
        "Select the intensity of the shades between the attributes of the dataframe:"
      ],
      "metadata": {
        "id": "7WCUL_X-ieT_"
      }
    },
    {
      "cell_type": "code",
      "source": [
        "def shadingIntensitySel(color,loneAttribute):\n",
        "  if color == 'blue':\n",
        "    if loneAttribute:\n",
        "      return '3A230E'\n",
        "    else:\n",
        "      return 'A0602'\n",
        "  if color == 'gray':\n",
        "    if loneAttribute:\n",
        "      return '191919'\n",
        "    else:\n",
        "      return 'D0D0D'"
      ],
      "metadata": {
        "id": "zFawWfwkg15t"
      },
      "execution_count": 6,
      "outputs": []
    },
    {
      "cell_type": "markdown",
      "source": [
        "### <font color=#85C1E9>Text formatting</font>"
      ],
      "metadata": {
        "id": "Iid3nEaAQmro"
      }
    },
    {
      "cell_type": "markdown",
      "source": [
        "Paints <font color=red>FALSE</font> values in <font color=red>red</font> and <font color=green>TRUE</font> values in <font color=green>green</font> text:"
      ],
      "metadata": {
        "id": "pMY_-zQ36-Ym"
      }
    },
    {
      "cell_type": "code",
      "source": [
        "def color_true_false(value):\n",
        "    if type(value) != type(''):\n",
        "      if value == 1:\n",
        "        color = 'green'\n",
        "      else:\n",
        "        color = 'red' \n",
        "      return 'color: {}'.format(color)"
      ],
      "metadata": {
        "id": "Qv3UCL6GYmx4"
      },
      "execution_count": 7,
      "outputs": []
    },
    {
      "cell_type": "markdown",
      "source": [
        "Paints values that are equal to 1 with <font color=green>green</font> text:"
      ],
      "metadata": {
        "id": "6tDM0CqQ7IS6"
      }
    },
    {
      "cell_type": "code",
      "source": [
        "def color_val(value):\n",
        "  if type(value) != type(''):\n",
        "    if value == 1:\n",
        "      color = 'green'\n",
        "      return 'color: {}'.format(color)"
      ],
      "metadata": {
        "id": "sv-Z4_E5J7R4"
      },
      "execution_count": 8,
      "outputs": []
    },
    {
      "cell_type": "markdown",
      "source": [
        "Paints value that are equal to 1.0 with <font color=#FDFEFE>white</font> text:"
      ],
      "metadata": {
        "id": "0hjk5Z3DzbYG"
      }
    },
    {
      "cell_type": "code",
      "source": [
        "def color_white(value):\n",
        "  if type(value) != type(''):\n",
        "    if value == 1.0:\n",
        "      color = '#FDFEFE'\n",
        "      return 'color: {}'.format(color)"
      ],
      "metadata": {
        "id": "Mj3J43ZvwGXE"
      },
      "execution_count": 9,
      "outputs": []
    },
    {
      "cell_type": "markdown",
      "source": [
        "### <font color=#85C1E9>Row formatting</font>"
      ],
      "metadata": {
        "id": "tEv_yBVWQtto"
      }
    },
    {
      "cell_type": "markdown",
      "source": [
        "Shades automatically the rows of the table with a <font color=red>c<font color=orange>o<font color=yellow>l<font color=green>o<font color=blue>r<font color=blue> s<font color=green>c<font color=yellow>a<font color=orange>l<font color=red>e</font></font></font></font></font></font></font></font></font></font> for each *attribute_name* group that was defined during the preprocessing phase.\n",
        "\n",
        "Works differently based on the fact that we want to focus on a single attribute (the sensitive one) or on the entire dataframe.\n",
        "\n",
        "Parameters meanings:\n",
        "\n",
        "-   `tab` $\\rightarrow$ the dataframe to be formatted (pandas df)\n",
        "-   `startingColor` $\\rightarrow$ the lighter color to start the shade process (hexadecimal color)\n",
        "-   `NumOfShades` $\\rightarrow$ the number of shades to apply (integer)\n",
        "-   `shadingIntensity` $\\rightarrow$ the intensity between each shade (hexadecimal color)\n",
        "-   `loneAttribute` $\\rightarrow$ indicates if the analysis is required only on a sensitive attribute (boolean)"
      ],
      "metadata": {
        "id": "4KFTjYUV79Te"
      }
    },
    {
      "cell_type": "code",
      "source": [
        "def highlight(tab, startingColor, numOfShades, shadingIntensity, loneAttribute):\n",
        "\n",
        "    df =  pd.DataFrame('', index=tab.index, columns=tab.columns)\n",
        "    color = int(startingColor,16)\n",
        "    attCount = 0\n",
        "    up = True\n",
        "\n",
        "    if loneAttribute:\n",
        "        for att in tab['attribute_name']:\n",
        "            bgcolor = 'background-color: \t#' + str(format(color, 'X'))\n",
        "            df.iloc[attCount, :] = bgcolor\n",
        "            up = attColorScale(numOfShades-1, up, attCount)\n",
        "            color = selectAttColor(color, shadingIntensity, up)\n",
        "            attCount = setCounter(attCount, up)\n",
        "\n",
        "    else:\n",
        "        for att in tab['attribute_name'].unique():\n",
        "            mask = tab['attribute_name'] == att\n",
        "            bgcolor = 'background-color: \t#' + str(format(color, 'X'))\n",
        "            df.loc[mask, :] = bgcolor\n",
        "            up = attColorScale(numOfShades-1, up, attCount)\n",
        "            color = selectAttColor(color, shadingIntensity, up)\n",
        "            attCount = setCounter(attCount, up)\n",
        "\n",
        "    return df  "
      ],
      "metadata": {
        "id": "RH-acBNYWVNF"
      },
      "execution_count": 10,
      "outputs": []
    },
    {
      "cell_type": "markdown",
      "source": [
        "Apply a <font color=green>green</font> background to cells containing a *1.0* value:"
      ],
      "metadata": {
        "id": "CfVmCgyAxpAp"
      }
    },
    {
      "cell_type": "code",
      "source": [
        "def highlight_100(value):\n",
        "  if type(value) != type(''):\n",
        "    if value == 1.0:\n",
        "      return 'background-color:\t #16A085' "
      ],
      "metadata": {
        "id": "Lpu93WrVsIME"
      },
      "execution_count": 11,
      "outputs": []
    },
    {
      "cell_type": "markdown",
      "source": [
        "---\n",
        "Apply a background gradient to each column of the table ***tab*** belonging to the ***sel_col*** list (using `axis=0` along the rows or using `axis=None` along both axes), and format their values to two decimal also applying percentage:"
      ],
      "metadata": {
        "id": "X5qAyttYlQam"
      }
    },
    {
      "cell_type": "code",
      "source": [
        "def table_gradient(tab,tab_style,sel_col,loneAttribute):\n",
        "  if sel_col:\n",
        "    tab_style.format({col: \"{:.2%}\" for col in tab.columns if col in sel_col})\n",
        "    if loneAttribute:\n",
        "      tab_style.background_gradient(axis=None, subset = sel_col)\n",
        "    else:\n",
        "      tab_style.background_gradient(axis=0, subset = sel_col)"
      ],
      "metadata": {
        "id": "YHR39SFBlR4V"
      },
      "execution_count": 12,
      "outputs": []
    },
    {
      "cell_type": "markdown",
      "source": [
        "### <font color=#85C1E9>Table formatting</font>"
      ],
      "metadata": {
        "id": "iCvdvYSV0XrC"
      }
    },
    {
      "cell_type": "markdown",
      "source": [
        "Formats text and background for each row of the dataframe:\n",
        "\n",
        "\n",
        "1.   Set <font color=black>black</font> text as default\n",
        "2.   Set <font color=navy>navy</font> text to values belonging to the *attribute_value* column\n",
        "3.   Set a sequence of <font color=lightblue>light blue</font> shades as background for each defined group \n",
        "4.   Add a gradient to the columns belonging to *sel_col* list\n",
        "5.   Set a <font color=green>green</font> background to the cells containing 100.00%\n",
        "6.   Set <font color=#FDFEFE>white</font> text to the cells containing 100.00%"
      ],
      "metadata": {
        "id": "pVfT6Hpg8jgP"
      }
    },
    {
      "cell_type": "code",
      "source": [
        "def format_blue_table(tab, sel_col, numOfShades, loneAttribute):\n",
        "    tab_style = tab.style\n",
        "    startingColor = startingColorSel('blue',loneAttribute)\n",
        "    shadingIntensity = shadingIntensitySel('blue',loneAttribute)\n",
        "    tab_style.set_properties(**{'color': 'black'})\n",
        "    tab_style.set_properties(**{'color': 'navy'}, subset = ['attribute_value'])\n",
        "    tab_style.apply(highlight, startingColor = startingColor, numOfShades = numOfShades, shadingIntensity = shadingIntensity, loneAttribute = loneAttribute, axis = None)\n",
        "    table_gradient(tab,tab_style,sel_col,loneAttribute)\n",
        "    tab_style.applymap(highlight_100, subset = sel_col)\n",
        "    tab_style.applymap(color_white, subset = sel_col)\n",
        "    return tab_style"
      ],
      "metadata": {
        "id": "6apiAtrS8j5-"
      },
      "execution_count": 13,
      "outputs": []
    },
    {
      "cell_type": "markdown",
      "source": [
        "Formats text and background for each row of the dataframe:\n",
        "\n",
        "\n",
        "1.   Set <font color=black>black</font> text for the values belonging to the *attribute_name* column\n",
        "2.   Set <font color=navy>navy</font> text to values belonging to the *attribute_value* column\n",
        "3.   Set a sequence of <font color=gray>gray</font> shades as background for each defined group\n",
        "4.   Set red and green colored text of the cells containing respectively False and True\n",
        "5.   Apply a <font color=red>gradient</font> to the columns belonging to the *sel_col* list\n",
        "6.   Set <font color=green>green</font> colored text of the cells containing '1'\n"
      ],
      "metadata": {
        "id": "lnOIOEMpA6bb"
      }
    },
    {
      "cell_type": "code",
      "source": [
        "def format_gray_table(tab,sel_col, numOfShades, loneAttribute):\n",
        "    tab_style = tab.style\n",
        "    startingColor = startingColorSel('gray',loneAttribute)\n",
        "    shadingIntensity = shadingIntensitySel('gray',loneAttribute)\n",
        "    tab_style.set_properties(**{'color': 'black'}, subset = ['attribute_name'])\n",
        "    if 'attribute_value' in tab.columns:\n",
        "      tab_style.set_properties(**{'color': 'navy'}, subset = ['attribute_value'])   \n",
        "    tab_style.apply(highlight, startingColor = startingColor, numOfShades = numOfShades, shadingIntensity = shadingIntensity, loneAttribute = loneAttribute, axis = None)\n",
        "    tab_style.applymap(color_true_false)\n",
        "    if loneAttribute:\n",
        "      tab_style.text_gradient(axis=1, cmap='gist_heat', subset = sel_col, low=0, high=0.5)\n",
        "    else:\n",
        "      tab_style.text_gradient(axis=0, cmap='gist_heat', subset = sel_col, low=0, high=0.5)\n",
        "    tab_style.applymap(color_val)\n",
        "    return tab_style"
      ],
      "metadata": {
        "id": "RTu60OX4A4zX"
      },
      "execution_count": 14,
      "outputs": []
    }
  ]
}